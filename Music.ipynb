{
 "cells": [
  {
   "cell_type": "markdown",
   "id": "cea6bb69-478f-46f8-b445-32c829921c95",
   "metadata": {},
   "source": [
    "# MIDI - Music"
   ]
  },
  {
   "cell_type": "code",
   "execution_count": 1,
   "id": "4d92a7ea-0f0c-45b3-a996-18246f9a5699",
   "metadata": {
    "tags": []
   },
   "outputs": [],
   "source": [
    "import numpy as np\n",
    "import mido\n",
    "from mido import Message, MidiFile, MetaMessage\n",
    "import time"
   ]
  },
  {
   "cell_type": "code",
   "execution_count": 2,
   "id": "740deba8-99f2-491e-9833-bf1fa58c0144",
   "metadata": {
    "tags": []
   },
   "outputs": [],
   "source": [
    "names = \"c c# d d# e f f# g g# a a# h C C# D D# E F F# G G# A A# H\".split(' ')\n",
    "midi_map = dict(zip(names,[v for v in range(60,85)]))\n",
    "midi_map['r']=0\n",
    "\n",
    "\n",
    "\n",
    "def get_midi_port_names():\n",
    "    return mido.get_output_names()\n",
    "    \n",
    "def get_midi_port(number):\n",
    "    port = get_midi_port_names()[number]\n",
    "    return mido.open_output(port)\n",
    "\n",
    "def play_midi_file(name):\n",
    "    midi = MidiFile(name)\n",
    "    midi.print_tracks()\n",
    "    with get_midi_port(1) as out:\n",
    "        for msg in midi.play():\n",
    "            out.send(msg)         \n",
    "            \n",
    "###########################            \n",
    "            \n",
    "def create_header():\n",
    "    header = []\n",
    "    header.append(MetaMessage('track_name', name='Klavier', time=0))\n",
    "    header.append(MetaMessage('time_signature', numerator=4, denominator=4, clocks_per_click=24, notated_32nd_notes_per_beat=8, time=0))\n",
    "    header.append(MetaMessage('key_signature', key='C', time=0))\n",
    "    header.append(MetaMessage('set_tempo', tempo=500000, time=0))\n",
    "    return header\n",
    "    \n",
    "def save_midi_song(filename,messages):\n",
    "    with open(filename, \"wb\") as file:\n",
    "        for message in messages:\n",
    "            print(message.bytes())\n",
    "            bytes = bytearray(message.bytes())              \n",
    "            file.write(bytes)            \n",
    "\n",
    "########### Tunes abspielen ################\n",
    "\n",
    "DEFAULT_TEMPO = 500000\n",
    "DEFAULT_TICKS_PER_BEAT = 480\n",
    "\n",
    "    \n",
    "def play_tune(tune):\n",
    "    '''\n",
    "    Spiel eine Song in Form eines formatierten Strings.\n",
    "    '''\n",
    "    messages = parse_tune(tune)\n",
    "    play_messages(messages)\n",
    "    \n",
    "    \n",
    "def play_messages(messages):    \n",
    "    '''\n",
    "    Spielt eine Sequenz von MIDI-Messages ab.\n",
    "    '''\n",
    "    with get_midi_port(1) as out:\n",
    "        for msg in get_messages(messages):\n",
    "            out.send(msg)\n",
    "            \n",
    "def get_messages(messages):\n",
    "    tempo = DEFAULT_TEMPO\n",
    "    ticks_per_beat=DEFAULT_TICKS_PER_BEAT\n",
    "    for msg in get_next_message(messages):\n",
    "        if msg.time > 0:\n",
    "            delta = tick2second(msg.time, ticks_per_beat, tempo)\n",
    "        else:\n",
    "            delta = 0\n",
    "\n",
    "        yield msg.copy(time=delta)\n",
    "\n",
    "        if msg.type == 'set_tempo':\n",
    "            tempo = msg.tempo     \n",
    "            \n",
    "\n",
    "def tick2second(tick, ticks_per_beat, tempo):\n",
    "    scale = tempo * 1e-6 / ticks_per_beat\n",
    "    return tick * scale\n",
    "\n",
    "    \n",
    "def get_next_message(messages,now=time.time):   \n",
    "    start_time = now()\n",
    "    input_time = 0.0\n",
    "\n",
    "    for msg in messages:\n",
    "        input_time += msg.time\n",
    "        playback_time = now() - start_time\n",
    "        duration_to_next_event = input_time - playback_time\n",
    "\n",
    "        if duration_to_next_event > 0.0:\n",
    "            time.sleep(duration_to_next_event)\n",
    "\n",
    "        if isinstance(msg, MetaMessage):\n",
    "            continue\n",
    "        else:\n",
    "            yield msg\n",
    "    return\n",
    "      \n",
    "          \n",
    "\n",
    "#############################\n",
    "\n",
    "ONE_TICK = 0.001\n",
    "\n",
    "def parse_tune(tune):\n",
    "    '''\n",
    "    Liest einen String ein und erstellt daraus eine Liste von MIDI-Messages.\n",
    "    Erstellt aus einer Note je zwei MIDI-Messages zum Start und Stop des Klangs. \n",
    "    Ein optionaler Header wird vorangestellt.\n",
    "    Die Tonhöhe wird wird in der Notation C oder f# angegeben. \n",
    "    Der Notenwert wird mit Zahlen 1, 2, 4, 8 usw. für ganze, halbe, Viertel- bzw Achtelnoten.    \n",
    "    '''\n",
    "    tune = tune.replace('|','').split(' ')  \n",
    "    tune = [note.strip() for note in tune if (len(note.strip()) > 1)]  \n",
    "    notes = [(note[0:-1],float(note[-1])) for note in tune]\n",
    "     \n",
    "    messages = [] #create_header()\n",
    "        \n",
    "    for name,value in notes:\n",
    "        volume = 0 if name=='r' else 80\n",
    "    \n",
    "        messages.append(Message('note_on', note=midi_map[name],velocity=volume,time=ONE_TICK) )   \n",
    "        messages.append(Message('note_on', note=midi_map[name],velocity=0,time=2 / value - ONE_TICK) )\n",
    "\n",
    "    return messages\n",
    "\n",
    "haenschen_klein = \"g4 e4 e4 r4   | f4 d4 d4 r4  |  || c4 d4 e4 f4 | g4 g4 g4 r4\"\n",
    "#print(parse_tune(haenschen_klein) )"
   ]
  },
  {
   "cell_type": "code",
   "execution_count": 3,
   "id": "f8f313c9-0930-4d2f-b0b0-9b63b38c5579",
   "metadata": {
    "tags": []
   },
   "outputs": [],
   "source": [
    "haenschen_klein = \"g4 e4 e4 r4   | f4 d4 d4 r4  |  || c4 d4 e4 f4 | g4 g4 g4 r4\"\n",
    "play_tune(haenschen_klein) "
   ]
  },
  {
   "cell_type": "code",
   "execution_count": 4,
   "id": "1426cf3a-f743-47d4-841d-bd450cb25bfb",
   "metadata": {},
   "outputs": [],
   "source": [
    "mid = mido.MidiFile('midi/Heiko.mid')\n",
    "with get_midi_port(1) as port:\n",
    "    for msg in mid.play():\n",
    "       # print(msg)\n",
    "        port.send(msg)   "
   ]
  },
  {
   "cell_type": "code",
   "execution_count": 5,
   "id": "d62de609-0462-4422-938a-e9bb9da831e9",
   "metadata": {
    "tags": []
   },
   "outputs": [
    {
     "ename": "FileNotFoundError",
     "evalue": "[Errno 2] No such file or directory: 'Heiko1.mid'",
     "output_type": "error",
     "traceback": [
      "\u001b[1;31m---------------------------------------------------------------------------\u001b[0m",
      "\u001b[1;31mFileNotFoundError\u001b[0m                         Traceback (most recent call last)",
      "Cell \u001b[1;32mIn[5], line 1\u001b[0m\n\u001b[1;32m----> 1\u001b[0m mid \u001b[38;5;241m=\u001b[39m mido\u001b[38;5;241m.\u001b[39mMidiFile(\u001b[38;5;124m'\u001b[39m\u001b[38;5;124mHeiko1.mid\u001b[39m\u001b[38;5;124m'\u001b[39m)\n\u001b[0;32m      2\u001b[0m \u001b[38;5;28mprint\u001b[39m(mid)\n",
      "File \u001b[1;32m~\\.conda\\envs\\science\\Lib\\site-packages\\mido\\midifiles\\midifiles.py:323\u001b[0m, in \u001b[0;36mMidiFile.__init__\u001b[1;34m(self, filename, file, type, ticks_per_beat, charset, debug, clip, tracks)\u001b[0m\n\u001b[0;32m    321\u001b[0m     \u001b[38;5;28mself\u001b[39m\u001b[38;5;241m.\u001b[39m_load(file)\n\u001b[0;32m    322\u001b[0m \u001b[38;5;28;01melif\u001b[39;00m \u001b[38;5;28mself\u001b[39m\u001b[38;5;241m.\u001b[39mfilename \u001b[38;5;129;01mis\u001b[39;00m \u001b[38;5;129;01mnot\u001b[39;00m \u001b[38;5;28;01mNone\u001b[39;00m:\n\u001b[1;32m--> 323\u001b[0m     \u001b[38;5;28;01mwith\u001b[39;00m io\u001b[38;5;241m.\u001b[39mopen(filename, \u001b[38;5;124m'\u001b[39m\u001b[38;5;124mrb\u001b[39m\u001b[38;5;124m'\u001b[39m) \u001b[38;5;28;01mas\u001b[39;00m file:\n\u001b[0;32m    324\u001b[0m         \u001b[38;5;28mself\u001b[39m\u001b[38;5;241m.\u001b[39m_load(file)\n",
      "\u001b[1;31mFileNotFoundError\u001b[0m: [Errno 2] No such file or directory: 'Heiko1.mid'"
     ]
    }
   ],
   "source": [
    "mid = mido.MidiFile('Heiko1.mid')\n",
    "print(mid)"
   ]
  },
  {
   "cell_type": "code",
   "execution_count": null,
   "id": "d1652181-5504-482d-a21a-09eb34929416",
   "metadata": {
    "tags": []
   },
   "outputs": [],
   "source": [
    "jingle_bells = \"e4 e4 e2 | e4 e4 e2  | e4 g4 c4 d4 | e1 | f4 f4 f4 f4 |  f4 e4 e2 | e4 d4 d4 e4 | d2 g2 |  e4 e4 e2 | e4 e4 e2 | e4 g4 c4 d4 | e1 | f4 f4 f4 f4 | f4 e4 e4 e4 | g4 g4 f4 d4 | c1\"\n",
    "\n",
    "play_tune(jingle_bells)"
   ]
  },
  {
   "cell_type": "code",
   "execution_count": null,
   "id": "31ae31cd-bb54-463f-a00c-89a1f4c46a00",
   "metadata": {},
   "outputs": [],
   "source": [
    "sound_of_silence = \"  r4 d8 d8 f8 f8 a8 a8|  g1 | r8 c8 c8 c8 e8 e8 g8 g8 |  f1 | r8 f8 f8 f8 a8 a8 C8 C8 | D4 D8 C8  C2 | \\\n",
    "r4 f8 f8 a8 a8 C8 C8 | \"\n",
    "play_tune(sound_of_silence)"
   ]
  },
  {
   "cell_type": "code",
   "execution_count": null,
   "id": "dc57f584-d134-4c64-bc32-d8efb737335a",
   "metadata": {},
   "outputs": [],
   "source": []
  }
 ],
 "metadata": {
  "kernelspec": {
   "display_name": "Python 3 (ipykernel)",
   "language": "python",
   "name": "python3"
  },
  "language_info": {
   "codemirror_mode": {
    "name": "ipython",
    "version": 3
   },
   "file_extension": ".py",
   "mimetype": "text/x-python",
   "name": "python",
   "nbconvert_exporter": "python",
   "pygments_lexer": "ipython3",
   "version": "3.11.5"
  }
 },
 "nbformat": 4,
 "nbformat_minor": 5
}
